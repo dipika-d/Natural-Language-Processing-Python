{
 "cells": [
  {
   "cell_type": "markdown",
   "metadata": {},
   "source": [
    "# Automated Readability Index"
   ]
  },
  {
   "cell_type": "markdown",
   "metadata": {},
   "source": [
    " #### A readability index is an estimation of how difficult a text is to read. The estimation is made by measuring a text's complexity. Measurable attributes of texts such as word lengths, sentence lengths, syllable counts, and so on give us ways to measure the complexity of a text. Text complexity is then compared to how well readers comprehend the text. From this data, a formula is created which predicts a text's reading difficulty from its complexity.\n",
    "\n",
    "#### The automated readability index (ARI) is a readability test for English texts, designed to gauge the understandability of a text. The formula for calculating the automated readability index is given below:\n",
    "\n",
    "#### ARI Score = 4.71 x (no. of characters in text /no. of words in text) + 0.5 x (no. of words in text /no. of sentences in text) - 21.43"
   ]
  },
  {
   "cell_type": "markdown",
   "metadata": {},
   "source": [
    "#### I am going to use some popular books such as the Harry Potter Series and the Lord of the Rings Series, along with some more difficult scientific and literary texts to compute their ARI scores. \n",
    "\n",
    "\n",
    "#### ARI scores lie between the range of 1-14 and each number corresponds to a recommended reading age. For example, an ARI score of 5 means that the text is suitable for children ages 9-10. \n",
    "\n",
    "#### The below table gives the age ranges based on ARI scores : "
   ]
  },
  {
   "cell_type": "code",
   "execution_count": 1,
   "metadata": {},
   "outputs": [
    {
     "data": {
      "text/html": [
       "<img src=\"https://www.beliefmedia.com.au/wp-content/uploads/2017/08/us-grade-level-ari.jpg\"/>"
      ],
      "text/plain": [
       "<IPython.core.display.Image object>"
      ]
     },
     "execution_count": 1,
     "metadata": {},
     "output_type": "execute_result"
    }
   ],
   "source": [
    "from IPython.display import Image\n",
    "Image(url= \"https://www.beliefmedia.com.au/wp-content/uploads/2017/08/us-grade-level-ari.jpg\")"
   ]
  },
  {
   "cell_type": "code",
   "execution_count": 2,
   "metadata": {},
   "outputs": [],
   "source": [
    "import nltk, os, os.path"
   ]
  },
  {
   "cell_type": "markdown",
   "metadata": {},
   "source": [
    "### I am using only NLTK and a few built-in Python libraries like string and math for this project. I am also creating and loading my own corpora using nltk.data"
   ]
  },
  {
   "cell_type": "code",
   "execution_count": 3,
   "metadata": {},
   "outputs": [
    {
     "data": {
      "text/plain": [
       "True"
      ]
     },
     "execution_count": 3,
     "metadata": {},
     "output_type": "execute_result"
    }
   ],
   "source": [
    "## Loading our own corpora\n",
    "\n",
    "path = os.path.expanduser('/home/allomorph/nltk_data')\n",
    "\n",
    "if not os.path.exists(path):\n",
    "    os.mkdir(path)\n",
    "\n",
    "## Below command should return True    \n",
    "os.path.exists(path)"
   ]
  },
  {
   "cell_type": "code",
   "execution_count": 4,
   "metadata": {},
   "outputs": [
    {
     "data": {
      "text/plain": [
       "True"
      ]
     },
     "execution_count": 4,
     "metadata": {},
     "output_type": "execute_result"
    }
   ],
   "source": [
    "import nltk.data\n",
    "\n",
    "## Below command should return True\n",
    "path in nltk.data.path"
   ]
  },
  {
   "cell_type": "markdown",
   "metadata": {},
   "source": [
    "## The Program :\n",
    "\n",
    "#### Below is the program I wrote to compute ARI Scores for any given text"
   ]
  },
  {
   "cell_type": "code",
   "execution_count": 5,
   "metadata": {},
   "outputs": [],
   "source": [
    "from __future__ import print_function\n",
    "from __future__ import division\n",
    "\n",
    "import string\n",
    "import re\n",
    "import math\n",
    "import operator\n",
    "from collections import Counter\n",
    "from nltk import word_tokenize\n",
    "from nltk import sent_tokenize\n",
    "\n",
    "exclude = list(string.punctuation)\n",
    "\n",
    "\n",
    "def legacy_round(number, points=0):\n",
    "    \"\"\"Function that rounds of each score to the nearest decimal\"\"\"\n",
    "    p = 10 ** points\n",
    "    return float(math.floor((number * p) + math.copysign(0.5, number))) / p\n",
    "\n",
    "\n",
    "def automated_readability_index(text):\n",
    "    text = \"\".join(chr(x) for x in text)\n",
    "    \n",
    "    def char_count(text, ignore_spaces=True):\n",
    "        \"\"\"Function to compute the number of characeters in a text\"\"\"\n",
    "        if ignore_spaces:\n",
    "            text = text.replace(\" \", \"\")\n",
    "        count = 0\n",
    "        for i in range(len(text)):\n",
    "            count += 1\n",
    "        return count\n",
    "    \n",
    "    def word_count(text, removepunct=True):\n",
    "        \"\"\"Function to compute the number of words in a text\"\"\"\n",
    "        if removepunct:\n",
    "            count = len([w for w in word_tokenize(text) if w not in exclude])\n",
    "        return count\n",
    "    \n",
    "    def sentence_count(text):\n",
    "        \"\"\"Function to compute the number of sentences in a text\"\"\"\n",
    "        sents = sent_tokenize(text)\n",
    "        count = 0\n",
    "        for i in range(len(sents)):\n",
    "            count += 1\n",
    "        return count\n",
    "    \n",
    "    \"\"\"The Algorithm to compute Automated Readability Index Scores for each text\"\"\"\n",
    "    chars = char_count(text)\n",
    "    words = word_count(text)\n",
    "    sentences = sentence_count(text)\n",
    "    try:\n",
    "        a = float(chars)/float(words)\n",
    "        b = float(words)/float(sentences)\n",
    "        readability = ((4.71 * legacy_round(a, 2)) + (0.5 * legacy_round(b, 2)) - 21.43)\n",
    "        return legacy_round(readability, 1)\n",
    "    except ZeroDivisionError:\n",
    "        return 0.0"
   ]
  },
  {
   "cell_type": "markdown",
   "metadata": {},
   "source": [
    "### Now, we can load all our corpora and test the program on each of them to find out the ARI score of each text!"
   ]
  },
  {
   "cell_type": "markdown",
   "metadata": {},
   "source": [
    "## Loading all our Corpora and Computing Scores for each text"
   ]
  },
  {
   "cell_type": "markdown",
   "metadata": {},
   "source": [
    "### Corpus 1 : Harry Potter and the Sorcerer's Stone - J.K. Rowling"
   ]
  },
  {
   "cell_type": "code",
   "execution_count": 6,
   "metadata": {},
   "outputs": [],
   "source": [
    "hp1 = nltk.data.load('corpora/corpora_nlpwp/HarryPotter1-Sorcerer\\'sStone.txt',format='raw')"
   ]
  },
  {
   "cell_type": "code",
   "execution_count": 7,
   "metadata": {},
   "outputs": [
    {
     "name": "stdout",
     "output_type": "stream",
     "text": [
      "The ARI Score for this text is 5.6.\n"
     ]
    }
   ],
   "source": [
    "# Computing ARI score\n",
    "\n",
    "hp1_ARI = automated_readability_index(hp1)\n",
    "print(\"The ARI Score for this text is {}.\".format(hp1_ARI))"
   ]
  },
  {
   "cell_type": "markdown",
   "metadata": {},
   "source": [
    "#### Result : With an ARI score of 5.6, this text is suitable for readers of ages 9-10. "
   ]
  },
  {
   "cell_type": "markdown",
   "metadata": {},
   "source": [
    "### Corpus 2 : Harry Potter and the Goblet of Fire - J.K. Rowling"
   ]
  },
  {
   "cell_type": "code",
   "execution_count": 8,
   "metadata": {},
   "outputs": [],
   "source": [
    "hp2 = nltk.data.load('corpora/corpora_nlpwp/HarryPotter4-TheGobletOfFire.txt',format='raw')"
   ]
  },
  {
   "cell_type": "code",
   "execution_count": 9,
   "metadata": {},
   "outputs": [
    {
     "name": "stdout",
     "output_type": "stream",
     "text": [
      "The ARI Score for this text is 5.4.\n"
     ]
    }
   ],
   "source": [
    "# Computing ARI score\n",
    "\n",
    "hp2_ARI = automated_readability_index(hp2)\n",
    "print(\"The ARI Score for this text is {}.\".format(hp2_ARI))"
   ]
  },
  {
   "cell_type": "markdown",
   "metadata": {},
   "source": [
    "#### Result : With an ARI score of 5.4, this text is suitable for readers of ages 9-10."
   ]
  },
  {
   "cell_type": "markdown",
   "metadata": {},
   "source": [
    "### Corpus 3 : The Lord of the Rings - The Fellowship of the Ring  - J.R.R. Tolkien"
   ]
  },
  {
   "cell_type": "code",
   "execution_count": 10,
   "metadata": {},
   "outputs": [],
   "source": [
    "lotr1 = nltk.data.load('corpora/corpora_nlpwp/01-TheFellowshipOfTheRing.txt',format='raw')"
   ]
  },
  {
   "cell_type": "code",
   "execution_count": 11,
   "metadata": {},
   "outputs": [
    {
     "name": "stdout",
     "output_type": "stream",
     "text": [
      "The ARI Score for this text is 6.0.\n"
     ]
    }
   ],
   "source": [
    "# Computing ARI score\n",
    "\n",
    "lotr1_ARI = automated_readability_index(lotr1)\n",
    "print(\"The ARI Score for this text is {}.\".format(lotr1_ARI))"
   ]
  },
  {
   "cell_type": "markdown",
   "metadata": {},
   "source": [
    "#### Result : With an ARI score of 6.0, this text is suitable for readers of ages 10-11. "
   ]
  },
  {
   "cell_type": "markdown",
   "metadata": {},
   "source": [
    "### Corpus 4 : The Lord of the Rings - The Return of the King - J.R.R. Tolkien"
   ]
  },
  {
   "cell_type": "code",
   "execution_count": 12,
   "metadata": {},
   "outputs": [],
   "source": [
    "lotr2 = nltk.data.load('corpora/corpora_nlpwp/03-TheReturnOfTheKing.txt',format='raw')"
   ]
  },
  {
   "cell_type": "code",
   "execution_count": 13,
   "metadata": {},
   "outputs": [
    {
     "name": "stdout",
     "output_type": "stream",
     "text": [
      "The ARI Score for this text is 6.0.\n"
     ]
    }
   ],
   "source": [
    "# Computing ARI score\n",
    "\n",
    "lotr2_ARI = automated_readability_index(lotr2)\n",
    "print(\"The ARI Score for this text is {}.\".format(lotr2_ARI))"
   ]
  },
  {
   "cell_type": "markdown",
   "metadata": {},
   "source": [
    "#### Result : With an ARI score of 6.0, this text is suitable for readers of ages 10-11."
   ]
  },
  {
   "cell_type": "markdown",
   "metadata": {},
   "source": [
    "### Corpus 5 : A Brief History of TIme - Stephen Hawking"
   ]
  },
  {
   "cell_type": "code",
   "execution_count": 14,
   "metadata": {},
   "outputs": [],
   "source": [
    "abhot = nltk.data.load('corpora/corpora_nlpwp/abhot.txt',format='raw')"
   ]
  },
  {
   "cell_type": "code",
   "execution_count": 15,
   "metadata": {},
   "outputs": [
    {
     "name": "stdout",
     "output_type": "stream",
     "text": [
      "The ARI Score for this text is 14.5.\n"
     ]
    }
   ],
   "source": [
    "# Computing ARI score\n",
    "\n",
    "abhot_ARI = automated_readability_index(abhot)\n",
    "print(\"The ARI Score for this text is {}.\".format(abhot_ARI))"
   ]
  },
  {
   "cell_type": "markdown",
   "metadata": {},
   "source": [
    "#### Result : With an ARI score of 14.5, this text is suitable for readers of ages 18-22+. "
   ]
  },
  {
   "cell_type": "markdown",
   "metadata": {},
   "source": [
    "### Corpus 6 : Moby Dick - Herman Melville"
   ]
  },
  {
   "cell_type": "code",
   "execution_count": 16,
   "metadata": {},
   "outputs": [],
   "source": [
    "moby = nltk.data.load('corpora/corpora_nlpwp/mobydick.txt',format='raw')"
   ]
  },
  {
   "cell_type": "code",
   "execution_count": 17,
   "metadata": {},
   "outputs": [
    {
     "name": "stdout",
     "output_type": "stream",
     "text": [
      "The ARI Score for this text is 11.6.\n"
     ]
    }
   ],
   "source": [
    "# Computing ARI score\n",
    "\n",
    "moby_ARI = automated_readability_index(moby)\n",
    "print(\"The ARI Score for this text is {}.\".format(moby_ARI))"
   ]
  },
  {
   "cell_type": "markdown",
   "metadata": {},
   "source": [
    "#### Result : With an ARI score of 11.6, this text is suitable for readers of ages 15-16."
   ]
  },
  {
   "cell_type": "markdown",
   "metadata": {},
   "source": [
    "### A Plot to see where each of the texts fall on the Age Scale(Y-Axis) :"
   ]
  },
  {
   "cell_type": "code",
   "execution_count": 19,
   "metadata": {},
   "outputs": [
    {
     "data": {
      "text/plain": [
       "Text(11.6,16,'Moby Dick')"
      ]
     },
     "execution_count": 19,
     "metadata": {},
     "output_type": "execute_result"
    },
    {
     "data": {
      "image/png": "[encoded data removed]",
      "text/plain": [
       "<Figure size 1440x720 with 1 Axes>"
      ]
     },
     "metadata": {},
     "output_type": "display_data"
    }
   ],
   "source": [
    "import matplotlib.pyplot as plt\n",
    "from pylab import rcParams\n",
    "rcParams['figure.figsize'] = 20,10\n",
    "\n",
    "plt.suptitle('ARI Scores')\n",
    "plt.ylabel('Ages')\n",
    "plt.xlabel('ARI Scores')\n",
    "axes = plt.gca()\n",
    "axes.set_xlim([1,20])\n",
    "axes.set_ylim([0,22])\n",
    "plt.text(hp1_ARI, 10, \"Harry Potter Series\", fontsize=16,bbox=dict(facecolor='red', alpha=0.3), fontdict=None, withdash=False)\n",
    "plt.text(lotr1_ARI, 11, \"Lord of the Rings Series\", fontsize=16,bbox=dict(facecolor='blue', alpha=0.3), fontdict=None, withdash=False)\n",
    "plt.text(abhot_ARI, 20, \"A Brief History of Time\", fontsize=16, bbox=dict(facecolor='green', alpha=0.3), fontdict=None, withdash=False)\n",
    "plt.text(moby_ARI, 16, \"Moby Dick\", fontsize=16,bbox=dict(facecolor='yellow', alpha=0.3), fontdict=None, withdash=False)"
   ]
  },
  {
   "cell_type": "markdown",
   "metadata": {},
   "source": [
    "### Conclusion :\n",
    "\n",
    "#### There are other other formulae apart from ARI that are used to assess age suitability of a text such as the Flesch-Kincaid Formula, the Coleman-Liau Formula. Some of them use syllable count, while others use word count and character count like the ARI formula, I used the ARI formula because it is the most releavant to Computational Linguistics and easy to implement using NLP with Python. These are methods of English Language Teaching(ELT) applied by academics and sociolinguists to help make reading an optimal process for readers of all ages."
   ]
  }
 ],
 "metadata": {
  "kernelspec": {
   "display_name": "Python 3",
   "language": "python",
   "name": "python3"
  },
  "language_info": {
   "codemirror_mode": {
    "name": "ipython",
    "version": 3
   },
   "file_extension": ".py",
   "mimetype": "text/x-python",
   "name": "python",
   "nbconvert_exporter": "python",
   "pygments_lexer": "ipython3",
   "version": "3.6.4"
  }
 },
 "nbformat": 4,
 "nbformat_minor": 2
}
