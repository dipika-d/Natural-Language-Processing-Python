{
 "cells": [
  {
   "cell_type": "markdown",
   "metadata": {},
   "source": [
    "#### Word Embeddings are an improvement on text data representation models like the BoW model which use word frequencies and other such metrics to generate large sparse vectors that do not really capture much about the meaning of the words in the text."
   ]
  },
  {
   "cell_type": "markdown",
   "metadata": {},
   "source": [
    "#### A vector space representation of words keeps the context information intact, thereby giving meaning insights into each word and locally clustering similar words together. "
   ]
  },
  {
   "cell_type": "markdown",
   "metadata": {},
   "source": [
    "#### There are two popular word embedding methods - word2vec developed by Google and GloVe developed by Stanford."
   ]
  },
  {
   "cell_type": "markdown",
   "metadata": {},
   "source": [
    "#### Gensim supports an implementation of word2vec word embeddings that help learn word vectors from text."
   ]
  },
  {
   "cell_type": "markdown",
   "metadata": {},
   "source": [
    "#### There are two main training algorithms to learn word embeddings from text - Continuous Bag of Words(CBOW) and Skipgrams. The gensim implmentation supports both the algorithms. To simplify - the algorithm entails looking at a window of words for each target word and computing the context based meaning of the word. "
   ]
  },
  {
   "cell_type": "markdown",
   "metadata": {},
   "source": [
    "#### Parameters for model training - (1) size(default 100 : the dimensions of the vector space); (2) window(default 5 : the maximum distance between a target word and the surrounding words); (3) min_count(default 5 : the minimum number of words to be considered while training the model, words that occur less than min_count number of times will be ignored); (4) workers(default 3 : number of cores to run computation on, depends on your computer); (5) sg(default 0 : 0 for CBOW and 1 for Skipgram)."
   ]
  },
  {
   "cell_type": "code",
   "execution_count": 1,
   "metadata": {},
   "outputs": [],
   "source": [
    "import warnings\n",
    "warnings.filterwarnings('ignore')\n",
    "from gensim.models import Word2Vec"
   ]
  },
  {
   "cell_type": "code",
   "execution_count": 2,
   "metadata": {},
   "outputs": [],
   "source": [
    "text = \"It was the best of times, it was the worst of times, it was the age of wisdom, it was the age of foolishness, it was the epoch of belief, it was the epoch of incredulity, it was the season of Light, it was the season of Darkness, it was the spring of hope, it was the winter of despair, we had everything before us, we had nothing before us, we were all going direct to Heaven, we were all going direct the other way – in short, the period was so far like the present period, that some of its noisiest authorities insisted on its being received, for good or for evil, in the superlative degree of comparison only.\""
   ]
  },
  {
   "cell_type": "code",
   "execution_count": 3,
   "metadata": {},
   "outputs": [],
   "source": [
    "## Sentence splitting\n",
    "\n",
    "sentences = text.split(',')\n",
    "\n",
    "## Lower casing\n",
    "\n",
    "sentences = [i.lower() for i in sentences]\n",
    "\n",
    "## Word tokenizing \n",
    "from nltk.tokenize import word_tokenize\n",
    "from string import punctuation\n",
    "puncts = list(set(punctuation))\n",
    "puncts.append('–')\n",
    "\n",
    "## Creating final documents to build model on\n",
    "\n",
    "docs = [word_tokenize(i) for i in sentences]"
   ]
  },
  {
   "cell_type": "code",
   "execution_count": 4,
   "metadata": {},
   "outputs": [],
   "source": [
    "## Removing punctuations\n",
    "\n",
    "for i in docs:\n",
    "    for j in i:\n",
    "        if j in puncts:\n",
    "            i.remove(j)"
   ]
  },
  {
   "cell_type": "code",
   "execution_count": 5,
   "metadata": {
    "scrolled": true
   },
   "outputs": [
    {
     "name": "stdout",
     "output_type": "stream",
     "text": [
      "['it', 'was', 'the', 'best', 'of', 'times'] \n",
      "\n",
      "['it', 'was', 'the', 'worst', 'of', 'times'] \n",
      "\n",
      "['it', 'was', 'the', 'age', 'of', 'wisdom'] \n",
      "\n",
      "['it', 'was', 'the', 'age', 'of', 'foolishness'] \n",
      "\n",
      "['it', 'was', 'the', 'epoch', 'of', 'belief'] \n",
      "\n",
      "['it', 'was', 'the', 'epoch', 'of', 'incredulity'] \n",
      "\n",
      "['it', 'was', 'the', 'season', 'of', 'light'] \n",
      "\n",
      "['it', 'was', 'the', 'season', 'of', 'darkness'] \n",
      "\n",
      "['it', 'was', 'the', 'spring', 'of', 'hope'] \n",
      "\n",
      "['it', 'was', 'the', 'winter', 'of', 'despair'] \n",
      "\n",
      "['we', 'had', 'everything', 'before', 'us'] \n",
      "\n",
      "['we', 'had', 'nothing', 'before', 'us'] \n",
      "\n",
      "['we', 'were', 'all', 'going', 'direct', 'to', 'heaven'] \n",
      "\n",
      "['we', 'were', 'all', 'going', 'direct', 'the', 'other', 'way', 'in', 'short'] \n",
      "\n",
      "['the', 'period', 'was', 'so', 'far', 'like', 'the', 'present', 'period'] \n",
      "\n",
      "['that', 'some', 'of', 'its', 'noisiest', 'authorities', 'insisted', 'on', 'its', 'being', 'received'] \n",
      "\n",
      "['for', 'good', 'or', 'for', 'evil'] \n",
      "\n",
      "['in', 'the', 'superlative', 'degree', 'of', 'comparison', 'only'] \n",
      "\n"
     ]
    }
   ],
   "source": [
    "## Printing the docs\n",
    "\n",
    "for i in docs:\n",
    "    print(i,'\\n')"
   ]
  },
  {
   "cell_type": "code",
   "execution_count": 10,
   "metadata": {},
   "outputs": [],
   "source": [
    "## Training the model \n",
    "\n",
    "model = Word2Vec(docs, min_count=1, sg=1)"
   ]
  },
  {
   "cell_type": "code",
   "execution_count": 11,
   "metadata": {},
   "outputs": [
    {
     "name": "stdout",
     "output_type": "stream",
     "text": [
      "Word2Vec(vocab=58, size=100, alpha=0.025)\n"
     ]
    }
   ],
   "source": [
    "print(model)"
   ]
  },
  {
   "cell_type": "code",
   "execution_count": 12,
   "metadata": {},
   "outputs": [],
   "source": [
    "words = list(model.wv.vocab)"
   ]
  },
  {
   "cell_type": "code",
   "execution_count": 13,
   "metadata": {},
   "outputs": [
    {
     "name": "stdout",
     "output_type": "stream",
     "text": [
      "58\n",
      "==============\n",
      "it was the best of times worst age wisdom foolishness epoch belief incredulity season light darkness spring hope winter despair we had everything before us nothing were all going direct to heaven other way in short period so far like present that some its noisiest authorities insisted on being received for good or evil superlative degree comparison only "
     ]
    }
   ],
   "source": [
    "print(len(words))\n",
    "print('==============')\n",
    "for i in words:\n",
    "    print(i,end=' ')"
   ]
  },
  {
   "cell_type": "code",
   "execution_count": 15,
   "metadata": {},
   "outputs": [
    {
     "name": "stdout",
     "output_type": "stream",
     "text": [
      "[ 4.8950058e-03 -4.1112956e-03  1.4554379e-03 -5.0627178e-04\n",
      " -4.0369509e-03  1.6781767e-03  2.5097104e-03  4.9559702e-03\n",
      " -1.7773520e-03 -2.2642054e-03 -3.4675468e-03  2.8839244e-03\n",
      "  4.6896348e-03 -3.3414105e-04  1.4349207e-03 -1.4440786e-03\n",
      " -4.0958328e-03 -3.7404392e-03  3.2709844e-03 -3.1373068e-03\n",
      "  8.6947519e-04  1.7419308e-05  4.7796369e-03  4.4654533e-03\n",
      "  3.8997382e-03 -1.7988129e-03  3.9428431e-03 -3.3691807e-03\n",
      " -4.6528047e-03 -4.2071356e-03 -4.7208448e-03 -1.8744634e-03\n",
      " -6.4305949e-04 -3.7703447e-03 -1.8553637e-03  2.2700455e-03\n",
      "  4.4762641e-03 -4.1368045e-03 -1.7325841e-04  4.1571702e-03\n",
      "  3.5971496e-03 -1.2290915e-03 -4.1834051e-03 -2.4079103e-03\n",
      "  3.9858907e-03 -3.4327337e-03  2.3536910e-03 -3.3645367e-03\n",
      "  6.7434815e-04  4.4403630e-03 -3.4916515e-03  4.0664417e-03\n",
      " -3.2619629e-03 -5.1560596e-04 -3.2136086e-03  3.9152121e-03\n",
      " -6.6092884e-04  6.0073711e-05  3.7634366e-03  1.2158523e-03\n",
      "  2.2400517e-03 -2.2395186e-03 -3.7996983e-03 -1.2677668e-03\n",
      " -1.3052355e-03 -2.2418529e-03  2.8449911e-04  1.0188504e-03\n",
      " -3.3482167e-04  3.6527677e-03  4.8427815e-03 -3.0655051e-03\n",
      "  1.1387053e-03 -1.1071036e-04 -1.9056288e-03 -3.5881768e-03\n",
      " -2.6942261e-03 -1.1168279e-03 -3.6997413e-03  4.6370826e-03\n",
      " -2.5324607e-03  6.0455245e-04  6.8253878e-04 -4.2936128e-05\n",
      " -1.3354407e-03 -8.6376839e-04  4.9642860e-03 -2.3092022e-03\n",
      " -2.1129171e-04 -1.6762353e-03  8.6769095e-04  1.9716872e-03\n",
      "  2.7085177e-03 -3.5116519e-03 -3.3020079e-03 -1.7931516e-03\n",
      " -3.0543823e-03 -1.2250573e-03  2.3592385e-03 -1.3861790e-03]\n"
     ]
    }
   ],
   "source": [
    "## Printing the word vector for a single word :\n",
    "\n",
    "print(model['it'])"
   ]
  },
  {
   "cell_type": "code",
   "execution_count": 16,
   "metadata": {},
   "outputs": [],
   "source": [
    "model.save('model_atotc.bin')"
   ]
  },
  {
   "cell_type": "code",
   "execution_count": 17,
   "metadata": {},
   "outputs": [],
   "source": [
    "model_atotc = Word2Vec.load('model_atotc.bin')"
   ]
  },
  {
   "cell_type": "code",
   "execution_count": 18,
   "metadata": {
    "scrolled": true
   },
   "outputs": [
    {
     "name": "stdout",
     "output_type": "stream",
     "text": [
      "Word2Vec(vocab=58, size=100, alpha=0.025)\n"
     ]
    }
   ],
   "source": [
    "print(model_atotc)"
   ]
  },
  {
   "cell_type": "markdown",
   "metadata": {},
   "source": [
    "#### Visualizing the model using PCA :"
   ]
  },
  {
   "cell_type": "code",
   "execution_count": 24,
   "metadata": {},
   "outputs": [],
   "source": [
    "from sklearn.decomposition import PCA\n",
    "import matplotlib.pyplot as plt"
   ]
  },
  {
   "cell_type": "code",
   "execution_count": 25,
   "metadata": {},
   "outputs": [],
   "source": [
    "X = model_atotc[model_atotc.wv.vocab]"
   ]
  },
  {
   "cell_type": "code",
   "execution_count": 26,
   "metadata": {},
   "outputs": [],
   "source": [
    "pca = PCA(n_components=2)"
   ]
  },
  {
   "cell_type": "code",
   "execution_count": 27,
   "metadata": {},
   "outputs": [],
   "source": [
    "result = pca.fit_transform(X)"
   ]
  },
  {
   "cell_type": "code",
   "execution_count": 28,
   "metadata": {},
   "outputs": [
    {
     "data": {
      "image/png": "[encoded data removed]",
      "text/plain": [
       "<Figure size 1440x1080 with 1 Axes>"
      ]
     },
     "metadata": {},
     "output_type": "display_data"
    }
   ],
   "source": [
    "from pylab import rcParams\n",
    "rcParams['figure.figsize'] = 20,15\n",
    "\n",
    "plt.scatter(result[:,0],result[:,1])\n",
    "for i, word in enumerate(words):\n",
    "    plt.annotate(word, xy=(result[i,0],result[i,1]))\n",
    "plt.show()"
   ]
  },
  {
   "cell_type": "code",
   "execution_count": 30,
   "metadata": {},
   "outputs": [
    {
     "name": "stdout",
     "output_type": "stream",
     "text": [
      "[('winter', 0.34498167037963867)]\n"
     ]
    }
   ],
   "source": [
    "test = model_atotc.most_similar(positive=['best'], negative=['worst'], topn=1)\n",
    "print(test)"
   ]
  }
 ],
 "metadata": {
  "kernelspec": {
   "display_name": "Python 3",
   "language": "python",
   "name": "python3"
  },
  "language_info": {
   "codemirror_mode": {
    "name": "ipython",
    "version": 3
   },
   "file_extension": ".py",
   "mimetype": "text/x-python",
   "name": "python",
   "nbconvert_exporter": "python",
   "pygments_lexer": "ipython3",
   "version": "3.6.4"
  }
 },
 "nbformat": 4,
 "nbformat_minor": 2
}
