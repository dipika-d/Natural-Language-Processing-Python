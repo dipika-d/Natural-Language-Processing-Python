{
 "cells": [
  {
   "cell_type": "markdown",
   "metadata": {},
   "source": [
    "#### I am solving all the additional problems at the end of Chapter 1, that I found interesting."
   ]
  },
  {
   "cell_type": "markdown",
   "metadata": {},
   "source": [
    "### Problem 23\n",
    "\n",
    "Use a combination of for and if statements to loop over the words of the movie script for Monty Python and the Holy Grail (text6) and print all the uppercase words, one per line."
   ]
  },
  {
   "cell_type": "code",
   "execution_count": 1,
   "metadata": {},
   "outputs": [
    {
     "name": "stdout",
     "output_type": "stream",
     "text": [
      "*** Introductory Examples for the NLTK Book ***\n",
      "Loading text1, ..., text9 and sent1, ..., sent9\n",
      "Type the name of the text or sentence to view it.\n",
      "Type: 'texts()' or 'sents()' to list the materials.\n",
      "text1: Moby Dick by Herman Melville 1851\n",
      "text2: Sense and Sensibility by Jane Austen 1811\n",
      "text3: The Book of Genesis\n",
      "text4: Inaugural Address Corpus\n",
      "text5: Chat Corpus\n",
      "text6: Monty Python and the Holy Grail\n",
      "text7: Wall Street Journal\n",
      "text8: Personals Corpus\n",
      "text9: The Man Who Was Thursday by G . K . Chesterton 1908\n"
     ]
    }
   ],
   "source": [
    "from nltk.book import *"
   ]
  },
  {
   "cell_type": "code",
   "execution_count": 2,
   "metadata": {},
   "outputs": [
    {
     "name": "stdout",
     "output_type": "stream",
     "text": [
      "GALAHAD\n",
      "HISTORIAN\n",
      "DIRECTOR\n",
      "VILLAGERS\n",
      "HEAD\n",
      "SENTRY\n",
      "PERSON\n",
      "Y\n",
      "KNIGHTS\n",
      "MAN\n",
      "STUNNER\n",
      "BORS\n",
      "PIGLET\n",
      "N\n",
      "WIFE\n",
      "PRISONER\n",
      "BLACK\n",
      "ANIMATOR\n",
      "RANDOM\n",
      "FATHER\n",
      "W\n",
      "LOVELY\n",
      "C\n",
      "OF\n",
      "LAUNCELOT\n",
      "MAYNARD\n",
      "MASTER\n",
      "CART\n",
      "MONKS\n",
      "ROGER\n",
      "GUARDS\n",
      "CROWD\n",
      "ALL\n",
      "PRINCE\n",
      "KNIGHT\n",
      "SIR\n",
      "A\n",
      "ENCHANTER\n",
      "MIDDLE\n",
      "PARTY\n",
      "GUESTS\n",
      "ZOOT\n",
      "CRAPPER\n",
      "ARTHUR\n",
      "VOICE\n",
      "WINSTON\n",
      "B\n",
      "RIGHT\n",
      "S\n",
      "NARRATOR\n",
      "SUN\n",
      "CONCORDE\n",
      "CUSTOMER\n",
      "GIRLS\n",
      "BRIDGEKEEPER\n",
      "U\n",
      "BRIDE\n",
      "DENNIS\n",
      "I\n",
      "KING\n",
      "DEAD\n",
      "LUCKY\n",
      "CARTOON\n",
      "O\n",
      "WOMAN\n",
      "INSPECTOR\n",
      "LEFT\n",
      "MINSTREL\n",
      "CRONE\n",
      "GUARD\n",
      "HEADS\n",
      "OFFICER\n",
      "ARMY\n",
      "DINGO\n",
      "TIM\n",
      "OLD\n",
      "HERBERT\n",
      "CHARACTER\n",
      "CRASH\n",
      "GOD\n",
      "PRINCESS\n",
      "OTHER\n",
      "BEDEVERE\n",
      "NI\n",
      "SOLDIER\n",
      "GUEST\n",
      "PATSY\n",
      "CAMERAMAN\n",
      "SHRUBBER\n",
      "MIDGET\n",
      "CHARACTERS\n",
      "BROTHER\n",
      "THE\n",
      "AMAZING\n",
      "SECOND\n",
      "WITCH\n",
      "SCENE\n",
      "VILLAGER\n",
      "GREEN\n",
      "FRENCH\n",
      "ROBIN\n"
     ]
    }
   ],
   "source": [
    "upper_words = list(set([word for word in text6 if word.isupper()==True]))\n",
    "\n",
    "for word in upper_words:\n",
    "    print(word)"
   ]
  },
  {
   "cell_type": "markdown",
   "metadata": {},
   "source": [
    "### Problem 25\n",
    "\n",
    "Define sent to be the list of words ['she', 'sells', 'sea', 'shells', 'by', 'the', 'sea', 'shore']. Now write code to perform the following tasks: \n",
    "\n",
    "a. Print all words beginning with sh. \n",
    "\n",
    "b. Print all words longer than four characters"
   ]
  },
  {
   "cell_type": "code",
   "execution_count": 3,
   "metadata": {},
   "outputs": [
    {
     "name": "stdout",
     "output_type": "stream",
     "text": [
      "['she', 'sells', 'shells', 'shore']\n"
     ]
    }
   ],
   "source": [
    "sent = ['she', 'sells', 'sea', 'shells', 'by', 'the', 'sea', 'shore']\n",
    "\n",
    "word_a_b = [word for word in sent if word.startswith('sh') or len(word)>4]\n",
    "\n",
    "print(word_a_b)"
   ]
  },
  {
   "cell_type": "markdown",
   "metadata": {},
   "source": [
    "### Problem 27\n",
    "\n",
    "Define a function called vocab_size(text) that has a single parameter for the text, and which returns the vocabulary size of the text."
   ]
  },
  {
   "cell_type": "code",
   "execution_count": 4,
   "metadata": {},
   "outputs": [
    {
     "data": {
      "text/plain": [
       "69213"
      ]
     },
     "execution_count": 4,
     "metadata": {},
     "output_type": "execute_result"
    }
   ],
   "source": [
    "def vocab_size(text):\n",
    "    size = 0\n",
    "    i = 0\n",
    "    while i<len(text):\n",
    "        size+=1\n",
    "        i+=1\n",
    "    \n",
    "    return size\n",
    "\n",
    "# test case\n",
    "\n",
    "vocab_size(text9)"
   ]
  },
  {
   "cell_type": "markdown",
   "metadata": {},
   "source": [
    "### Problem 26\n",
    "\n",
    "What does the following Python code do? sum([len(w) for w in text1]) Can you use it to work out the average word length of a text?"
   ]
  },
  {
   "cell_type": "code",
   "execution_count": 5,
   "metadata": {},
   "outputs": [
    {
     "data": {
      "text/plain": [
       "999044"
      ]
     },
     "execution_count": 5,
     "metadata": {},
     "output_type": "execute_result"
    }
   ],
   "source": [
    "sum([len(w) for w in text1])"
   ]
  },
  {
   "cell_type": "markdown",
   "metadata": {},
   "source": [
    "** The above line of code returns the total number of characters in the body of text1 **"
   ]
  },
  {
   "cell_type": "code",
   "execution_count": 6,
   "metadata": {},
   "outputs": [
    {
     "name": "stdout",
     "output_type": "stream",
     "text": [
      "3.830411128023649\n"
     ]
    }
   ],
   "source": [
    "avg_word_length = sum([len(w) for w in text1])/len(text1)\n",
    "\n",
    "print(avg_word_length)"
   ]
  },
  {
   "cell_type": "markdown",
   "metadata": {},
   "source": [
    "### Problem 28\n",
    "\n",
    "Define a function percent(word, text) that calculates how often a given word occurs in a text and expresses the result as a percentage."
   ]
  },
  {
   "cell_type": "code",
   "execution_count": 7,
   "metadata": {},
   "outputs": [
    {
     "name": "stdout",
     "output_type": "stream",
     "text": [
      "The word love constitutes 0.054387749336045656 percent of <Text: Sense and Sensibility by Jane Austen 1811>\n",
      "-----\n",
      "The word madness constitutes 0.006134522408260134 percent of <Text: Moby Dick by Herman Melville 1851>\n",
      "-----\n",
      "The word God constitutes 0.5160396747386293 percent of <Text: The Book of Genesis>\n"
     ]
    }
   ],
   "source": [
    "def percentage(word,text):\n",
    "    percent = str(100*(text.count(word)/len(text)))\n",
    "    return \"The word {} constitutes {} percent of {}\".format(word,percent,text)\n",
    "\n",
    "# Example test case 1:\n",
    "\n",
    "print(percentage(\"love\",text2))\n",
    "print('-----')\n",
    "\n",
    "# Example test case 2:\n",
    "print(percentage(\"madness\",text1))\n",
    "print('-----')\n",
    "\n",
    "# Example test case 3:\n",
    "print(percentage(\"God\",text3))"
   ]
  },
  {
   "cell_type": "markdown",
   "metadata": {},
   "source": [
    "### Problem 24\n",
    "\n",
    "Write expressions for finding all words in text6 that meet the following condi- tions. The result should be in the form of a list of words: ['word1', 'word2', ...].\n",
    "\n",
    "a. Ending in ize \n",
    "\n",
    "b. Containing the letter z \n",
    "\n",
    "c. Containing the sequence of letters pt \n",
    "\n",
    "d. All lowercase letters except for an initial capital (i.e., titlecase)"
   ]
  },
  {
   "cell_type": "code",
   "execution_count": 8,
   "metadata": {},
   "outputs": [
    {
     "name": "stdout",
     "output_type": "stream",
     "text": [
      "0\n",
      "9\n",
      "13\n",
      "471\n"
     ]
    }
   ],
   "source": [
    "words = [[word for word in text6 if word.endswith('ize')],[word for word in text6 if 'z' in word],[word for word in text6 if 'pt' in word],list(set([word for word in text6 if word.istitle()==True]))]\n",
    "\n",
    "for item in words:\n",
    "    print(len(item))"
   ]
  },
  {
   "cell_type": "code",
   "execution_count": 9,
   "metadata": {},
   "outputs": [
    {
     "name": "stdout",
     "output_type": "stream",
     "text": [
      "[[], ['zone', 'amazes', 'Fetchez', 'Fetchez', 'zoop', 'zoo', 'zhiv', 'frozen', 'zoosh'], ['empty', 'aptly', 'Thpppppt', 'Thppt', 'Thppt', 'empty', 'Thppppt', 'temptress', 'temptation', 'ptoo', 'Chapter', 'excepting', 'Thpppt'], ['To', 'Very', 'It', 'Ha', 'Y', 'Aauuugh', 'Prince', 'Message', 'Lord', 'Old', 'Uhh', 'My', 'Bon', 'Really', 'Ninepence', 'Speak', 'Come', 'Practice', 'God', 'Ayy', 'Bors', 'Nothing', 'Aaah', 'Tall', 'And', 'Hold', 'Quiet', 'Ahh', 'Umhm', 'England', 'Shall', 'Remove', 'Stay', 'Crapper', 'Aaaah', 'Uugh', 'Ives', 'You', 'Pendragon', 'Defeat', 'Unfortunately', 'By', 'S', 'Quickly', 'Oooohoohohooo', 'Put', 'Nine', 'Bravely', 'Hyy', 'Alice', 'Look', 'Nu', 'Mercea', 'On', 'Ow', 'Let', 'Neee', 'Piglet', 'Lake', 'Saxons', 'Hill', 'Mine', 'I', 'Anarcho', 'All', 'Clark', 'Winston', 'Hm', 'Erbert', 'Will', 'Bread', 'Black', 'Enchanter', 'Which', 'May', 'Could', 'Aaaaaaaah', 'Blue', 'Brother', 'Heh', 'Armaments', 'Don', 'Gorge', 'So', 'Oh', 'Midget', 'Ni', 'Hmm', 'Himself', 'Spring', 'Other', 'Grenade', 'Churches', 'Back', 'Nay', 'Morning', 'Court', 'Action', 'No', 'Open', 'Fine', 'Yeah', 'Lancelot', 'Camaaaaaargue', 'Ay', 'Dramatically', 'Away', 'Antioch', 'Oooo', 'Beyond', 'True', 'Fetchez', 'Victory', 'Hallo', 'Ages', 'Picture', 'Dis', 'Bad', 'Iiiiives', 'Uther', 'Aggh', 'Aaauugh', 'Together', 'Eternal', 'Divine', 'Chapter', 'Build', 'If', 'Farewell', 'Wait', 'Packing', 'Welcome', 'Aaaaugh', 'Alright', 'Britain', 'Meanwhile', 'Chicken', 'Dappy', 'Halt', 'For', 'Table', 'Eee', 'Yup', 'Huh', 'When', 'Must', 'What', 'Hang', 'Quite', 'Caerbannog', 'Thppppt', 'Firstly', 'None', 'Ah', 'Bristol', 'Running', 'Mind', 'Perhaps', 'Hiyaah', 'Charge', 'That', 'Wood', 'Tower', 'Recently', 'Hoa', 'Camelot', 'Stop', 'Yeaah', 'Thursday', 'Pin', 'Thou', 'Anyway', 'Off', 'They', 'Said', 'Huy', 'Yes', 'Hiyya', 'Robin', 'Maynard', 'Joseph', 'Thsss', 'Then', 'Chop', 'Bloody', 'Help', 'Launcelot', 'Ere', 'Do', 'Aramaic', 'Yapping', 'Right', 'Aaaaaaaaah', 'Aaagh', 'Am', 'Assyria', 'First', 'Uuh', 'Princess', 'Peng', 'Almighty', 'Since', 'Robinson', 'Frank', 'Silence', 'Torment', 'Waa', 'Silly', 'Attila', 'Shh', 'Forgive', 'Use', 'Woa', 'Aauuuves', 'Riiight', 'Is', 'Christ', 'Make', 'Herbert', 'Exactly', 'Seek', 'Tim', 'Lie', 'Your', 'Death', 'Providence', 'Pie', 'Eh', 'Oooh', 'Of', 'Holy', 'Whoa', 'Go', 'Bedwere', 'Gable', 'Jesus', 'Doctor', 'Oui', 'Shut', 'This', 'Idiom', 'Ask', 'Once', 'Splendid', 'Run', 'Tell', 'Even', 'Did', 'Bones', 'N', 'Pure', 'Winter', 'Hiyah', 'Erm', 'Father', 'Summer', 'As', 'Lucky', 'Too', 'W', 'Follow', 'Mud', 'Twenty', 'Course', 'Aah', 'Therefore', 'Arimathea', 'Behold', 'Roger', 'Thee', 'Does', 'Throw', 'Far', 'Beast', 'Britons', 'Say', 'Rheged', 'Supposing', 'Actually', 'Aauuggghhh', 'Greetings', 'An', 'Til', 'Here', 'Man', 'Cider', 'Consult', 'Uh', 'The', 'Order', 'Thank', 'Leaving', 'Hooray', 'Try', 'Well', 'Steady', 'Clear', 'See', 'More', 'Like', 'Most', 'Just', 'Zoot', 'Three', 'Four', 'Two', 'Explain', 'Hoo', 'Thy', 'Prepare', 'Keep', 'Battle', 'Galahad', 'Hic', 'Ho', 'Between', 'Stand', 'Psalms', 'Gallahad', 'Allo', 'One', 'Mother', 'Surely', 'There', 'Bridge', 'Lady', 'Quick', 'Iesu', 'Have', 'Amen', 'Get', 'Five', 'Ecky', 'Over', 'French', 'Pull', 'Oooooooh', 'Heee', 'Skip', 'African', 'Ewing', 'Dingo', 'Monsieur', 'Aagh', 'Thpppt', 'Sorry', 'His', 'Where', 'Aauuuuugh', 'Loimbard', 'Great', 'Hurry', 'Walk', 'Nador', 'Hee', 'We', 'European', 'Autumn', 'Ohh', 'Not', 'Concorde', 'Patsy', 'Shrubberies', 'Fiends', 'Aaauggh', 'Swamp', 'Hah', 'Cherries', 'Grail', 'Saint', 'Supreme', 'Forward', 'Bravest', 'Isn', 'Iiiives', 'Knight', 'Badon', 'C', 'Wayy', 'Book', 'Burn', 'Quoi', 'Haw', 'Cut', 'He', 'Would', 'Auuuuuuuugh', 'Hey', 'A', 'Chaste', 'Tale', 'Umm', 'Angnor', 'Ulk', 'Augh', 'Sir', 'In', 'Agh', 'Olfin', 'Aaaaaah', 'B', 'Round', 'Dennis', 'Hand', 'English', 'Looks', 'Ooh', 'Bedevere', 'She', 'Shrubber', 'Chickennn', 'Anybody', 'Why', 'Didn', 'Guards', 'Apples', 'Ridden', 'U', 'Castle', 'Everything', 'Honestly', 'Or', 'Now', 'Lead', 'At', 'King', 'Hya', 'O', 'But', 'Thppt', 'Who', 'Um', 'Anthrax', 'Cornwall', 'Un', 'Are', 'Yeaaah', 'Tis', 'Guy', 'Until', 'Peril', 'With', 'Schools', 'Ector', 'Today', 'Thpppppt', 'Excalibur', 'Every', 'Huyah', 'Yay', 'Mmm', 'Never', 'Brave', 'Rather', 'Listen', 'Arthur', 'Bring', 'Knights', 'Gawain', 'France', 'Those', 'How', 'Found', 'Be', 'Good', 'Our', 'Please', 'Aaaugh', 'Excuse', 'Hello', 'Dragon']]\n"
     ]
    }
   ],
   "source": [
    "print(words)"
   ]
  },
  {
   "cell_type": "markdown",
   "metadata": {},
   "source": [
    "### Problem 22\n",
    "\n",
    "Find all the four-letter words in the Chat Corpus (text5). With the help of a frequency distribution (FreqDist), show these words in decreasing order of frequency."
   ]
  },
  {
   "cell_type": "code",
   "execution_count": 10,
   "metadata": {},
   "outputs": [
    {
     "name": "stdout",
     "output_type": "stream",
     "text": [
      "10204\n"
     ]
    }
   ],
   "source": [
    "four_words = [word for word in text5 if len(word)==4]\n",
    "print(len(four_words))"
   ]
  },
  {
   "cell_type": "code",
   "execution_count": 11,
   "metadata": {},
   "outputs": [],
   "source": [
    "fdist = FreqDist(four_words)"
   ]
  },
  {
   "cell_type": "code",
   "execution_count": 13,
   "metadata": {},
   "outputs": [
    {
     "data": {
      "image/png": "[encoded data removed]",
      "text/plain": [
       "<Figure size 432x288 with 1 Axes>"
      ]
     },
     "metadata": {},
     "output_type": "display_data"
    }
   ],
   "source": [
    "# Reverse sorting the fdist object\n",
    "\n",
    "rev_sort = list(reversed(fdist.most_common(30)))\n",
    "fdist = FreqDist(rev_sort)\n",
    "\n",
    "# Plotting the reverse sorted Frequency Distriubtion\n",
    "\n",
    "fdist.plot(cumulative=True)"
   ]
  }
 ],
 "metadata": {
  "kernelspec": {
   "display_name": "Python 3",
   "language": "python",
   "name": "python3"
  },
  "language_info": {
   "codemirror_mode": {
    "name": "ipython",
    "version": 3
   },
   "file_extension": ".py",
   "mimetype": "text/x-python",
   "name": "python",
   "nbconvert_exporter": "python",
   "pygments_lexer": "ipython3",
   "version": "3.6.4"
  }
 },
 "nbformat": 4,
 "nbformat_minor": 2
}
