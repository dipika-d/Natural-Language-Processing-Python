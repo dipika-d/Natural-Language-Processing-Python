{
 "cells": [
  {
   "cell_type": "markdown",
   "metadata": {},
   "source": [
    "## Notes from the book :"
   ]
  },
  {
   "cell_type": "code",
   "execution_count": 1,
   "metadata": {
    "scrolled": true
   },
   "outputs": [
    {
     "name": "stdout",
     "output_type": "stream",
     "text": [
      "*** Introductory Examples for the NLTK Book ***\n",
      "Loading text1, ..., text9 and sent1, ..., sent9\n",
      "Type the name of the text or sentence to view it.\n",
      "Type: 'texts()' or 'sents()' to list the materials.\n",
      "text1: Moby Dick by Herman Melville 1851\n",
      "text2: Sense and Sensibility by Jane Austen 1811\n",
      "text3: The Book of Genesis\n",
      "text4: Inaugural Address Corpus\n",
      "text5: Chat Corpus\n",
      "text6: Monty Python and the Holy Grail\n",
      "text7: Wall Street Journal\n",
      "text8: Personals Corpus\n",
      "text9: The Man Who Was Thursday by G . K . Chesterton 1908\n"
     ]
    }
   ],
   "source": [
    "from nltk.book import *"
   ]
  },
  {
   "cell_type": "markdown",
   "metadata": {},
   "source": [
    "### Searching the Text\n",
    "\n",
    "Running some simple text searching techniques from the chapter."
   ]
  },
  {
   "cell_type": "markdown",
   "metadata": {},
   "source": [
    "* As we can see below, each text in nltk.book is from the Text class built into the nltk library"
   ]
  },
  {
   "cell_type": "code",
   "execution_count": 2,
   "metadata": {},
   "outputs": [
    {
     "name": "stdout",
     "output_type": "stream",
     "text": [
      "<Text: Moby Dick by Herman Melville 1851>\n",
      "----\n"
     ]
    },
    {
     "data": {
      "text/plain": [
       "nltk.text.Text"
      ]
     },
     "execution_count": 2,
     "metadata": {},
     "output_type": "execute_result"
    }
   ],
   "source": [
    "print(text1)\n",
    "print('----')\n",
    "type(text1)"
   ]
  },
  {
   "cell_type": "code",
   "execution_count": 3,
   "metadata": {},
   "outputs": [
    {
     "name": "stdout",
     "output_type": "stream",
     "text": [
      "<Text: Monty Python and the Holy Grail>\n",
      "-----\n",
      "Displaying 2 of 2 matches:\n",
      " GUARD : No , now go away or I shall taunt you a second time - a ! [ sniff ] AR\n",
      "change your armor . GALAHAD : Let us taunt it ! It may become so cross that it \n"
     ]
    }
   ],
   "source": [
    "print(text6)\n",
    "print('-----')\n",
    "text6.concordance(\"taunt\")"
   ]
  },
  {
   "cell_type": "markdown",
   "metadata": {},
   "source": [
    "* We can extract word tokens similar to our search term using the similar() method. Here, I'm matching the word \"love\"."
   ]
  },
  {
   "cell_type": "code",
   "execution_count": 4,
   "metadata": {},
   "outputs": [
    {
     "name": "stdout",
     "output_type": "stream",
     "text": [
      "<Text: Sense and Sensibility by Jane Austen 1811>\n",
      "-----\n",
      "affection sister heart mother time see town life it dear elinor\n",
      "marianne me word family her him do regard head\n"
     ]
    }
   ],
   "source": [
    "print(text2)\n",
    "print('-----')\n",
    "text2.similar(\"love\")"
   ]
  },
  {
   "cell_type": "code",
   "execution_count": 5,
   "metadata": {},
   "outputs": [
    {
     "name": "stdout",
     "output_type": "stream",
     "text": [
      "<Text: Wall Street Journal>\n",
      "-----\n",
      "the_is the_, the_of the_to\n"
     ]
    }
   ],
   "source": [
    "print(text7)\n",
    "print('-----')\n",
    "text7.common_contexts([\"stock\",\"exchange\"])"
   ]
  },
  {
   "cell_type": "code",
   "execution_count": 6,
   "metadata": {
    "scrolled": true
   },
   "outputs": [
    {
     "data": {
      "text/plain": [
       "<Figure size 640x480 with 1 Axes>"
      ]
     },
     "metadata": {},
     "output_type": "display_data"
    }
   ],
   "source": [
    "text7.dispersion_plot([\"stock\",\"market\",\"exchange\",\"rise\",\"fall\"])"
   ]
  },
  {
   "cell_type": "markdown",
   "metadata": {},
   "source": [
    "* ** Note : nltk.text.Text.generate() method has been removed from the library by the nltk developer team **"
   ]
  },
  {
   "cell_type": "code",
   "execution_count": 7,
   "metadata": {},
   "outputs": [
    {
     "name": "stdout",
     "output_type": "stream",
     "text": [
      "<Text: Monty Python and the Holy Grail>\n",
      "------\n",
      "16967\n",
      "------\n",
      "['!', '!)', '!,', '!]', '#', \"'\", \"'!\", \"',\", \"'.\", \"'...\", \"'?\", '(', ',', \",'\", ',--', '-', '--', '--...', '.', \".'\", '.)', '..', '...', '...?', '...]', '1', '10', '11', '12', '13', '14', '15', '16', '17', '18', '19', '2', '20', '21', '22', '23', '24', '3', '4', '5', '6', '7', '8', '9', ':', ';', '?', '?!', 'A', 'ALL', 'AMAZING', 'ANIMATOR', 'ARMY', 'ARTHUR', 'Aaaaaaaaah', 'Aaaaaaaah', 'Aaaaaah', 'Aaaah', 'Aaaaugh', 'Aaagh', 'Aaah', 'Aaauggh', 'Aaaugh', 'Aaauugh', 'Aagh', 'Aah', 'Aauuggghhh', 'Aauuugh', 'Aauuuuugh', 'Aauuuves', 'Action', 'Actually', 'African', 'Ages', 'Aggh', 'Agh', 'Ah', 'Ahh', 'Alice', 'All', 'Allo', 'Almighty', 'Alright', 'Am', 'Amen', 'An', 'Anarcho', 'And', 'Angnor', 'Anthrax', 'Antioch', 'Anybody', 'Anyway', 'Apples', 'Aramaic']\n"
     ]
    }
   ],
   "source": [
    "print(text6)\n",
    "print('------')\n",
    "print(len(text6))\n",
    "print('------')\n",
    "\n",
    "# Printing first 100 terms of a sorted set of text6\n",
    "\n",
    "print(list(sorted(set(text6))[:100]))"
   ]
  },
  {
   "cell_type": "markdown",
   "metadata": {},
   "source": [
    "* We obtain a sorted list of vocabulary items, beginning with various punctuation symbols and continuing with words starting with A. All capitalized words precede lowercase words."
   ]
  },
  {
   "cell_type": "markdown",
   "metadata": {},
   "source": [
    "* Below we can see that even though there are 16967 tokens in the text, there are only 2166 types or unique words."
   ]
  },
  {
   "cell_type": "code",
   "execution_count": 8,
   "metadata": {},
   "outputs": [
    {
     "name": "stdout",
     "output_type": "stream",
     "text": [
      "2166\n"
     ]
    }
   ],
   "source": [
    "print(len(set(text6)))"
   ]
  },
  {
   "cell_type": "markdown",
   "metadata": {},
   "source": [
    "* Let us try to compute the measure of lexical richness aka the token to type ratio"
   ]
  },
  {
   "cell_type": "code",
   "execution_count": 9,
   "metadata": {},
   "outputs": [
    {
     "name": "stdout",
     "output_type": "stream",
     "text": [
      "Token to Type Ratio is 7.833333333333333\n"
     ]
    }
   ],
   "source": [
    "token_type_ratio = len(text6)/len(set(text6))\n",
    "\n",
    "print(\"Token to Type Ratio is\",token_type_ratio)\n"
   ]
  },
  {
   "cell_type": "markdown",
   "metadata": {},
   "source": [
    "* We can compute how often a word occurs in any given text with the count() method"
   ]
  },
  {
   "cell_type": "code",
   "execution_count": 10,
   "metadata": {},
   "outputs": [
    {
     "name": "stdout",
     "output_type": "stream",
     "text": [
      "<Text: Chat Corpus>\n",
      "-----\n",
      "704\n",
      "-----\n",
      "The word 'lol' constitutes 1.5640968673628082 percent of the chat corpus\n"
     ]
    }
   ],
   "source": [
    "# Checking how often 'lol' occurs in the chat corpus\n",
    "\n",
    "print(text5)\n",
    "print('-----')\n",
    "print(text5.count(\"lol\"))\n",
    "print('-----')\n",
    "\n",
    "percent = 100*(text5.count(\"lol\")/len(text5))\n",
    "\n",
    "print(\"The word \\'lol\\' constitutes %s percent of the chat corpus\" %str(percent))"
   ]
  },
  {
   "cell_type": "markdown",
   "metadata": {},
   "source": [
    "* Here I have written simple function to measure Token to Type Ratio(lexical_diversity()) and Count Percentage(percentage())"
   ]
  },
  {
   "cell_type": "code",
   "execution_count": 11,
   "metadata": {},
   "outputs": [
    {
     "data": {
      "text/plain": [
       "'The lexical diversity in <Text: The Man Who Was Thursday by G . K . Chesterton 1908> is 10.167915381225209'"
      ]
     },
     "execution_count": 11,
     "metadata": {},
     "output_type": "execute_result"
    }
   ],
   "source": [
    "def lexical_diversity(text):\n",
    "    ratio = str(len(text)/len(set(text)))\n",
    "    return \"The lexical diversity in {} is {}\".format(text,ratio)\n",
    "\n",
    "lexical_diversity(text9)"
   ]
  },
  {
   "cell_type": "code",
   "execution_count": 12,
   "metadata": {},
   "outputs": [
    {
     "name": "stdout",
     "output_type": "stream",
     "text": [
      "The word love constitutes 0.054387749336045656 percent of <Text: Sense and Sensibility by Jane Austen 1811>\n",
      "-----\n",
      "The word madness constitutes 0.006134522408260134 percent of <Text: Moby Dick by Herman Melville 1851>\n",
      "-----\n",
      "The word God constitutes 0.5160396747386293 percent of <Text: The Book of Genesis>\n"
     ]
    }
   ],
   "source": [
    "def percentage(word,text):\n",
    "    percent = str(100*(text.count(word)/len(text)))\n",
    "    return \"The word {} constitutes {} percent of {}\".format(word,percent,text)\n",
    "\n",
    "# Example test case 1:\n",
    "\n",
    "print(percentage(\"love\",text2))\n",
    "print('-----')\n",
    "\n",
    "# Example test case 2:\n",
    "print(percentage(\"madness\",text1))\n",
    "print('-----')\n",
    "\n",
    "# Example test case 3:\n",
    "print(percentage(\"God\",text3))\n"
   ]
  },
  {
   "cell_type": "markdown",
   "metadata": {},
   "source": [
    "* We can use our lexical_diversity() function on lists as well, because in principle, it will only find the ratio of all occurances to unique occurances."
   ]
  },
  {
   "cell_type": "code",
   "execution_count": 13,
   "metadata": {},
   "outputs": [
    {
     "name": "stdout",
     "output_type": "stream",
     "text": [
      "['It', 'was', 'the', 'best', 'of', 'times']\n",
      "-----\n",
      "['It', 'was', 'the', 'worst', 'of', 'times']\n",
      "-----\n",
      "The lexical diversity in ['It', 'was', 'the', 'best', 'of', 'times'] is 1.0\n",
      "-----\n",
      "The lexical diversity in ['It', 'was', 'the', 'worst', 'of', 'times'] is 1.0\n"
     ]
    }
   ],
   "source": [
    "# Here I am taking two example sentences to see how it works. \n",
    "\n",
    "sent1 = \"It was the best of times\".split()\n",
    "sent2 = \"It was the worst of times\".split()\n",
    "\n",
    "print(sent1)\n",
    "print('-----')\n",
    "print(sent2)\n",
    "print('-----')\n",
    "print(lexical_diversity(sent1))\n",
    "print('-----')\n",
    "print(lexical_diversity(sent2))"
   ]
  },
  {
   "cell_type": "code",
   "execution_count": 14,
   "metadata": {},
   "outputs": [
    {
     "name": "stdout",
     "output_type": "stream",
     "text": [
      "The lexical diversity in ['It', 'was', 'the', 'best', 'of', 'times', 'It', 'was', 'the', 'worst', 'of', 'times'] is 1.7142857142857142\n"
     ]
    }
   ],
   "source": [
    "# Now let us add these two sentences into one and see the resulting expression's lexical diversity\n",
    "\n",
    "sent = sent1+sent2\n",
    "print(lexical_diversity(sent))"
   ]
  },
  {
   "cell_type": "markdown",
   "metadata": {},
   "source": [
    "### Simple Statistics in Text\n",
    "\n",
    "Extracting statistically significant data from the text as demonstrated in the chapter."
   ]
  },
  {
   "cell_type": "code",
   "execution_count": 15,
   "metadata": {},
   "outputs": [
    {
     "name": "stdout",
     "output_type": "stream",
     "text": [
      "[('the', 9281), ('of', 6970), (',', 6840), ('and', 4991), ('.', 4676), ('to', 4311), ('in', 2527), ('a', 2134), ('our', 1905), ('that', 1688), ('be', 1460), ('is', 1403), ('we', 1141), ('for', 1075), ('by', 1036), ('it', 1011), ('which', 1002), ('have', 994), ('not', 916), ('as', 888), ('with', 886), ('will', 846), ('I', 831), ('are', 774), ('all', 758), ('their', 719), ('this', 700), ('The', 619), ('has', 611), ('people', 559), ('its', 554), (';', 544), ('or', 537), ('from', 521), ('on', 496), ('We', 483), ('been', 482), ('but', 479), ('can', 457), ('us', 455), ('my', 449), ('no', 406), ('an', 377), ('--', 363), ('upon', 363), ('who', 356), ('It', 356), ('so', 354), ('must', 345), ('they', 341)]\n"
     ]
    }
   ],
   "source": [
    "# Using the FreqDist method to find the 50 most frequent words in the Inaugural Address Corpus\n",
    "\n",
    "top50_text4 = FreqDist(text4).most_common(50)\n",
    "print(top50_text4)"
   ]
  },
  {
   "cell_type": "markdown",
   "metadata": {},
   "source": [
    "* As we can see in the above output, the FreqDist method outputs a list of tuples wherein each tuple contains the word in index 0 and its frequency in index 1. We can extract just the words from this."
   ]
  },
  {
   "cell_type": "code",
   "execution_count": 16,
   "metadata": {},
   "outputs": [
    {
     "name": "stdout",
     "output_type": "stream",
     "text": [
      "['the', 'of', ',', 'and', '.', 'to', 'in', 'a', 'our', 'that', 'be', 'is', 'we', 'for', 'by', 'it', 'which', 'have', 'not', 'as', 'with', 'will', 'I', 'are', 'all', 'their', 'this', 'The', 'has', 'people', 'its', ';', 'or', 'from', 'on', 'We', 'been', 'but', 'can', 'us', 'my', 'no', 'an', '--', 'upon', 'who', 'It', 'so', 'must', 'they']\n"
     ]
    }
   ],
   "source": [
    "mostcommonwords_text4 = [tuple[0] for tuple in top50_text4[:]]\n",
    "print(mostcommonwords_text4)"
   ]
  },
  {
   "cell_type": "markdown",
   "metadata": {},
   "source": [
    "* In the above output we can observe that a lot of punctuation marks are part of the list of most common words. We can print all the punctuation marks from the list."
   ]
  },
  {
   "cell_type": "code",
   "execution_count": 17,
   "metadata": {},
   "outputs": [
    {
     "name": "stdout",
     "output_type": "stream",
     "text": [
      ",\n",
      ".\n",
      ";\n",
      "--\n"
     ]
    }
   ],
   "source": [
    "import re\n",
    "char_pattern = re.compile('[^Aa-zZ|0123456789]')\n",
    "\n",
    "# This will identify all the special characters from the most common words list\n",
    "\n",
    "for i in mostcommonwords_text4:\n",
    "    if char_pattern.search(i.lower()):\n",
    "        print(i)"
   ]
  },
  {
   "cell_type": "code",
   "execution_count": 18,
   "metadata": {},
   "outputs": [
    {
     "name": "stdout",
     "output_type": "stream",
     "text": [
      "['the', 'of', 'and', 'to', 'in', 'a', 'our', 'that', 'be', 'is', 'we', 'for', 'by', 'it', 'which', 'have', 'not', 'as', 'with', 'will', 'I', 'are', 'all', 'their', 'this', 'The', 'has', 'people', 'its', 'or', 'from', 'on', 'We', 'been', 'but', 'can', 'us', 'my', 'no', 'an', 'upon', 'who', 'It', 'so', 'must', 'they']\n",
      "-----\n",
      "46\n"
     ]
    }
   ],
   "source": [
    "# This will remove all the special characters from the list\n",
    "\n",
    "for i in mostcommonwords_text4:\n",
    "    if char_pattern.search(i.lower()):\n",
    "        mostcommonwords_text4.remove(i)\n",
    "        \n",
    "print(mostcommonwords_text4)\n",
    "print('-----')\n",
    "print(len(mostcommonwords_text4))"
   ]
  },
  {
   "cell_type": "markdown",
   "metadata": {},
   "source": [
    "* We can check the frequency of each word in the top50 as following."
   ]
  },
  {
   "cell_type": "code",
   "execution_count": 19,
   "metadata": {},
   "outputs": [
    {
     "data": {
      "text/plain": [
       "559"
      ]
     },
     "execution_count": 19,
     "metadata": {},
     "output_type": "execute_result"
    }
   ],
   "source": [
    "fdist_text4 = FreqDist(text4)\n",
    "\n",
    "# Returns the frequency of the word 'people' in text4\n",
    "\n",
    "fdist_text4['people']"
   ]
  },
  {
   "cell_type": "markdown",
   "metadata": {},
   "source": [
    "* Generating a cumulative frequency graph to see the distribution of the words in text4."
   ]
  },
  {
   "cell_type": "code",
   "execution_count": 20,
   "metadata": {},
   "outputs": [
    {
     "data": {
      "image/png": "[encoded data removed]",
      "text/plain": [
       "<Figure size 432x288 with 1 Axes>"
      ]
     },
     "metadata": {},
     "output_type": "display_data"
    }
   ],
   "source": [
    "fdist_text4.plot(50,cumulative=True)"
   ]
  },
  {
   "cell_type": "markdown",
   "metadata": {},
   "source": [
    "* Words that appear only once in a body of text are called **hapaxes**. We can also locate them using the hapaxes() method."
   ]
  },
  {
   "cell_type": "code",
   "execution_count": 21,
   "metadata": {},
   "outputs": [
    {
     "name": "stdout",
     "output_type": "stream",
     "text": [
      "['notification', '14th', 'fondest', 'predilection', 'flattering', 'asylum', 'interruptions', 'awaken', 'distrustful', 'despondence', 'inheriting', 'endowments', 'unpracticed', 'aver', 'thence', 'consulted', 'disinclination', 'untried', 'cares', 'palliated', 'mislead', 'repaired', 'improper', 'omit', 'tendering', 'homage', 'adore', 'Invisible', 'conducts', 'token', 'pious', 'reflections', 'auspiciously', 'acquit', 'designates', 'congenial', 'actuate', 'rectitude', 'adorn', 'behold', 'misdirect', 'preeminence', 'indissoluble', 'disregards', 'fifth', 'juncture', 'inquietude', 'discernment', 'characteristic', 'impregnably']\n"
     ]
    }
   ],
   "source": [
    "hapaxes = fdist_text4.hapaxes()\n",
    "\n",
    "# Printing a small sample\n",
    "\n",
    "print(hapaxes[:50])"
   ]
  },
  {
   "cell_type": "markdown",
   "metadata": {},
   "source": [
    "* We can check for the index of any given word using the index() method."
   ]
  },
  {
   "cell_type": "code",
   "execution_count": 22,
   "metadata": {},
   "outputs": [
    {
     "data": {
      "text/plain": [
       "135994"
      ]
     },
     "execution_count": 22,
     "metadata": {},
     "output_type": "execute_result"
    }
   ],
   "source": [
    "text4.index('president')"
   ]
  },
  {
   "cell_type": "markdown",
   "metadata": {},
   "source": [
    "* To get a word that is longer than 15 characters, we can use a simple list comprehension."
   ]
  },
  {
   "cell_type": "code",
   "execution_count": 23,
   "metadata": {},
   "outputs": [
    {
     "name": "stdout",
     "output_type": "stream",
     "text": [
      "['RESPONSIBILITIES', 'antiphilosophists', 'constitutionally', 'constitutionally', 'constitutionally', 'constitutionally', 'contradistinction', 'discountenancing', 'disqualification', 'enthusiastically', 'instrumentalities', 'instrumentalities', 'instrumentalities', 'instrumentalities', 'instrumentalities', 'instrumentalities', 'internationality', 'irresponsibility', 'irresponsibility', 'misappropriation', 'misrepresentation', 'misrepresentation', 'misunderstanding', 'misunderstanding', 'misunderstanding', 'misunderstanding', 'misunderstanding', 'responsibilities', 'responsibilities', 'responsibilities', 'responsibilities', 'responsibilities', 'responsibilities', 'responsibilities', 'responsibilities', 'responsibilities', 'responsibilities', 'responsibilities', 'responsibilities', 'responsibilities', 'responsibilities', 'responsibilities', 'responsibilities', 'responsibilities', 'responsibilities', 'responsibilities', 'responsibilities', 'responsibilities', 'responsibilities', 'responsibilities', 'responsibilities', 'responsibilities', 'responsibilities', 'responsibilities', 'sentimentalizing', 'transcontinental', 'uncharitableness', 'unconstitutional', 'unconstitutional', 'unconstitutional']\n",
      "-----\n",
      "60\n"
     ]
    }
   ],
   "source": [
    "morethan15 = [word for word in text4 if len(word)>15]\n",
    "print(sorted(morethan15))\n",
    "print('-----')\n",
    "print(len(morethan15))"
   ]
  },
  {
   "cell_type": "markdown",
   "metadata": {},
   "source": [
    "* To get a word longer than 10 characters that appears more than 10 times in the text, we can use a simple list comprehension."
   ]
  },
  {
   "cell_type": "code",
   "execution_count": 24,
   "metadata": {},
   "outputs": [
    {
     "name": "stdout",
     "output_type": "stream",
     "text": [
      "['Administration', 'Confederacy', 'Constitution', 'Legislature', 'Territories', 'accomplished', 'achievement', 'acknowledged', 'administration', 'advancement', 'agriculture', 'application', 'appointment', 'aspirations', 'authorities', 'circumstances', 'citizenship', 'civilization', 'combinations', 'communities', 'consciousness', 'consequences', 'consideration', 'constituted', 'constitutional', 'construction', 'continuance', 'contributed', 'controversies', 'cooperation', 'departments', 'destruction', 'determination', 'development', 'differences', 'difficulties', 'disposition', 'distinguished', 'encouragement', 'enforcement', 'enlightened', 'enterprises', 'established', 'establishment', 'expenditure', 'expenditures', 'extraordinary', 'forbearance', 'foundations', 'fulfillment', 'fundamental', 'generations', 'governments', 'improvement', 'independence', 'independent', 'individuals', 'inseparable', 'institution', 'institutions', 'intelligence', 'intelligent', 'intercourse', 'interference', 'international', 'jurisdiction', 'legislation', 'legislative', 'limitations', 'maintaining', 'maintenance', 'manufactures', 'necessities', 'obligations', 'opportunities', 'opportunity', 'organization', 'performance', 'practicable', 'predecessor', 'predecessors', 'preservation', 'representatives', 'responsibilities', 'responsibility', 'responsible', 'restoration', 'satisfaction', 'sovereignty', 'strengthened', 'tranquillity', 'understanding']\n",
      "-----\n",
      "92\n"
     ]
    }
   ],
   "source": [
    "morethan10 = [word for word in text4 if len(word)>10 and fdist_text4[word]>10]\n",
    "print(sorted(set(morethan10)))\n",
    "print('-----')\n",
    "print(len(set(morethan10)))"
   ]
  },
  {
   "cell_type": "markdown",
   "metadata": {},
   "source": [
    "### Collocations and Bigrams"
   ]
  },
  {
   "cell_type": "markdown",
   "metadata": {},
   "source": [
    "* A collocation is a sequence of words that occur together unusually often. Thus red wine is a collocation, whereas the wine is not. A characteristic of collocations is that they are resistant to substitution with words that have similar senses; for example, maroon wine sounds very odd."
   ]
  },
  {
   "cell_type": "markdown",
   "metadata": {},
   "source": [
    "* Bigrams are a contiguous sequence of two words. In an example like, \"The cow jumped over the moon\", the bigrams would be \"the cow\",\"cow jumped\",\"jumped over\",\"over the\",\"the moon\". "
   ]
  },
  {
   "cell_type": "code",
   "execution_count": 25,
   "metadata": {},
   "outputs": [
    {
     "name": "stdout",
     "output_type": "stream",
     "text": [
      "million *U*; New York; billion *U*; Wall Street; program trading; Mrs.\n",
      "Yeargin; vice president; Stock Exchange; Big Board; Georgia Gulf;\n",
      "chief executive; Dow Jones; S&P 500; says *T*-1; York Stock; last\n",
      "year; Sea Containers; South Korea; American Express; San Francisco\n"
     ]
    }
   ],
   "source": [
    "text7.collocations()"
   ]
  },
  {
   "cell_type": "code",
   "execution_count": 26,
   "metadata": {},
   "outputs": [
    {
     "name": "stdout",
     "output_type": "stream",
     "text": [
      "It was, was the, the best, best of, of times, times It, It was, was the, the worst, worst of, of times\n"
     ]
    }
   ],
   "source": [
    "from nltk import bigrams\n",
    "bigrams_sent = list(bigrams(sent))\n",
    "print(*map(' '.join, bigrams_sent), sep=', ')"
   ]
  },
  {
   "cell_type": "markdown",
   "metadata": {},
   "source": [
    "* We can count the number of characters in each word of the text using list comprehensions."
   ]
  },
  {
   "cell_type": "code",
   "execution_count": 27,
   "metadata": {},
   "outputs": [
    {
     "name": "stdout",
     "output_type": "stream",
     "text": [
      "<FreqDist with 13 samples and 16967 outcomes>\n",
      "-----\n",
      "dict_keys([5, 1, 4, 6, 7, 3, 2, 9, 8, 10, 11, 13, 12])\n"
     ]
    }
   ],
   "source": [
    "fdist_text6 = FreqDist([len(word) for word in text6])\n",
    "\n",
    "print(fdist_text6)\n",
    "print('-----')\n",
    "print(fdist_text6.keys())"
   ]
  },
  {
   "cell_type": "markdown",
   "metadata": {},
   "source": [
    "* Here we see that although there are 16967 tokens, there are only 13 distinct types based on word length."
   ]
  },
  {
   "cell_type": "code",
   "execution_count": 28,
   "metadata": {},
   "outputs": [
    {
     "data": {
      "text/plain": [
       "dict_items([(5, 1450), (1, 5982), (4, 2298), (6, 1207), (7, 713), (3, 2375), (2, 2176), (9, 254), (8, 395), (10, 49), (11, 31), (13, 6), (12, 31)])"
      ]
     },
     "execution_count": 28,
     "metadata": {},
     "output_type": "execute_result"
    }
   ],
   "source": [
    "fdist_text6.items()"
   ]
  },
  {
   "cell_type": "markdown",
   "metadata": {},
   "source": [
    "* Here we see the frequency distributions of the words based on word length."
   ]
  },
  {
   "cell_type": "code",
   "execution_count": 29,
   "metadata": {},
   "outputs": [
    {
     "data": {
      "text/plain": [
       "0.04202275004420345"
      ]
     },
     "execution_count": 29,
     "metadata": {},
     "output_type": "execute_result"
    }
   ],
   "source": [
    "fdist_text6.freq(7)"
   ]
  },
  {
   "cell_type": "markdown",
   "metadata": {},
   "source": [
    "* From the above output, the frequency of 7 letter words is ~ 0.042%"
   ]
  },
  {
   "cell_type": "code",
   "execution_count": 30,
   "metadata": {},
   "outputs": [
    {
     "data": {
      "image/png": "[encoded data removed]",
      "text/plain": [
       "<Figure size 432x288 with 1 Axes>"
      ]
     },
     "metadata": {},
     "output_type": "display_data"
    }
   ],
   "source": [
    "fdist_text6.plot(cumulative=True)"
   ]
  },
  {
   "cell_type": "markdown",
   "metadata": {},
   "source": [
    "* Shown above is the cumulative frequency plot of text6 based on word length alone."
   ]
  },
  {
   "cell_type": "markdown",
   "metadata": {},
   "source": [
    "### Conditionals, Loops and other Native Python Ways"
   ]
  },
  {
   "cell_type": "markdown",
   "metadata": {},
   "source": [
    "* Here I am using a simple list comprehension with a conditional inside it to extract all the words of the '-ing' form."
   ]
  },
  {
   "cell_type": "code",
   "execution_count": 31,
   "metadata": {},
   "outputs": [
    {
     "name": "stdout",
     "output_type": "stream",
     "text": [
      "['touching', 'changing', 'killing', 'missing', 'being', 'considering', 'changing', 'fucking', 'freaking', 'wedding', 'warning', 'ring', 'falling', 'freaking', 'having', 'anithing', 'annoying', 'playing', 'liking', 'kidding', 're-thinking', 'nothing', 'resisting', 'searching', 'darling', 'going', 'darling', 'incoming', 'fighting', 'cheaking', 'ignoring', 'fighting', 'nothing', 'going', 'intersting', 'looking', 'evening', 'going', 'meeting', 'trying', 'sing', 'nothing', 'kidding', 'thinking', 'getting', 'cheating', 'being', 'happening', 'passing', 'kidding']\n"
     ]
    }
   ],
   "source": [
    "progressives = [word.lower() for word in text5 if word.endswith('ing')]\n",
    "\n",
    "# Printing a small sample\n",
    "\n",
    "print(progressives[:50])"
   ]
  },
  {
   "cell_type": "markdown",
   "metadata": {},
   "source": [
    "* Using a conditional to pull out all words that are title cased."
   ]
  },
  {
   "cell_type": "code",
   "execution_count": 32,
   "metadata": {},
   "outputs": [
    {
     "name": "stdout",
     "output_type": "stream",
     "text": [
      "['Page', 'Divine', 'Continue', 'Recall', 'Texas', 'Chosen', 'Stripped', 'Sanitary', 'Old', 'Already', 'From', 'Xpreparing', 'Cabinet', 'Immunity', 'Tarry', 'Islands', 'Misled', 'Miss', 'Intrusted', 'Freed', 'Abandonment', 'Problems', 'Off', 'In', 'Events', 'Returning', 'Presidency', 'Normandy', 'Over', 'Commission', 'Surely', 'Annihilate', 'Peoples', 'Societies', 'Underneath', 'Archibald', 'Johnson', 'Directly', 'Happiness', 'Senator', 'Muslims', 'Much', 'Information', 'Ohio', 'Father', 'Athens', 'Arlington', 'Valley', 'Strong', 'Ultimately']\n"
     ]
    }
   ],
   "source": [
    "titles = list(set([word for word in text4 if word.istitle()==True]))\n",
    "\n",
    "# Printing a small sample\n",
    "\n",
    "print(titles[:50])"
   ]
  },
  {
   "cell_type": "markdown",
   "metadata": {},
   "source": [
    "* Similarly, to pull out words based on a matching pattern."
   ]
  },
  {
   "cell_type": "code",
   "execution_count": 33,
   "metadata": {},
   "outputs": [
    {
     "name": "stdout",
     "output_type": "stream",
     "text": [
      "['tonight', 'alight', 'flight', 'weight', 'might', 'mightiest', 'knights', 'almighty', 'fight', 'alright', 'daughter', 'thought', 'right', 'straight', 'frighten', 'slightly', 'sight', 'nightfall', 'riiight', 'flights', 'eight', 'night', 'fought', 'naughty', 'knight', 'brought']\n"
     ]
    }
   ],
   "source": [
    "ght_terms = list(set([word.lower() for word in text6 if 'ght' in word]))\n",
    "print(ght_terms)"
   ]
  },
  {
   "cell_type": "markdown",
   "metadata": {},
   "source": [
    "\n",
    "* We can write nested code blocks with conditionals in them to extract salient data we need from the text."
   ]
  },
  {
   "cell_type": "code",
   "execution_count": 34,
   "metadata": {},
   "outputs": [
    {
     "name": "stdout",
     "output_type": "stream",
     "text": [
      "['13', '16', '3', '1', '15', '6', '5', '20', '12', '7', '24', '9', '14', '10', '22', '4', '23', '19', '11', '17', '8', '18', '21', '2']\n"
     ]
    }
   ],
   "source": [
    "import string\n",
    "\n",
    "nums_in_text6 = []\n",
    "\n",
    "for word in text6:\n",
    "    if word.isalpha()==True:\n",
    "        pass\n",
    "    elif word in string.punctuation:\n",
    "        pass\n",
    "    elif char_pattern.search(word.lower()):\n",
    "        pass\n",
    "    else:\n",
    "        nums_in_text6.append(word)\n",
    "        \n",
    "nums_in_text6 = list(set(nums_in_text6))\n",
    "\n",
    "print(nums_in_text6)"
   ]
  },
  {
   "cell_type": "markdown",
   "metadata": {},
   "source": [
    "* In the above example, I have written a nested block with several conditionals in order to extract all the numbers embedded in the body of text6."
   ]
  },
  {
   "cell_type": "markdown",
   "metadata": {},
   "source": [
    "### Notes on Miscellaneous NLP Processes"
   ]
  },
  {
   "cell_type": "markdown",
   "metadata": {},
   "source": [
    "* What tourist sites can I visit between Philadelphia and Pittsburgh on a limited budget? What do experts say about digital SLR cameras? What predictions about the steel market were made by credible commentators in the past week? Getting a computer to answer them automatically involves a range of language processing tasks, including information extraction, inference, and summari- zation, and would need to be carried out on a scale and with a level of robustness that is still beyond our current capabilities."
   ]
  },
  {
   "cell_type": "markdown",
   "metadata": {},
   "source": [
    "* ** Word Sense Disambiguation using Theta Roles and Case Marking** \n",
    "\n",
    "a. The lost children were found _by_ the searchers (agentive) \n",
    "\n",
    "b. The lost children were found _by_ the mountain (locative) \n",
    "\n",
    "c. The lost children were found _by_ the afternoon (temporal)\n"
   ]
  },
  {
   "cell_type": "markdown",
   "metadata": {},
   "source": [
    "* ** Anaphora Resolution through Semantic Role Labelling**\n",
    "\n",
    "a. The thieves stole the paintings. They were subsequently sold. \n",
    "\n",
    "b. The thieves stole the paintings. They were subsequently caught. \n",
    "\n",
    "c. The thieves stole the paintings. They were subsequently found.\n",
    "\n",
    "Answering this question involves finding the antecedent of the pronoun they, either thieves or paintings. Computational techniques for tackling this problem include ana- phora resolution—identifying what a pronoun or noun phrase refers to—and semantic role labeling—identifying how a noun phrase relates to the verb (as agent, patient, instrument, and so on)."
   ]
  },
  {
   "cell_type": "markdown",
   "metadata": {},
   "source": [
    "#### ** Note : babelize_shell() method has been dysfunctional for a few years now **"
   ]
  },
  {
   "cell_type": "markdown",
   "metadata": {},
   "source": [
    "* Textual Entailment\n",
    "\n",
    "Consider the following text-hypothesis pair:\n",
    "\n",
    "a. Text: David Golinkin is the editor or author of 18 books, and over 150 responsa, articles, sermons and books\n",
    "\n",
    "b. Hypothesis: Golinkin has written 18 books\n",
    "\n",
    "In order to determine whether the hypothesis is supported by the text, the system needs the following background knowledge: \n",
    "\n",
    "(i) if someone is an author of a book, then he/ she has written that book; \n",
    "\n",
    "(ii) if someone is an editor of a book, then he/she has not written (all of) that book; \n",
    "\n",
    "(iii) if someone is editor or author of 18 books, then one cannot conclude that he/she is author of 18 books.\n",
    "\n",
    "RTE is a shared public task that brought Textual Entailment into focus in the field of NLP but not very effectively so. More on this in Chapter 6.\n"
   ]
  }
 ],
 "metadata": {
  "kernelspec": {
   "display_name": "Python 3",
   "language": "python",
   "name": "python3"
  },
  "language_info": {
   "codemirror_mode": {
    "name": "ipython",
    "version": 3
   },
   "file_extension": ".py",
   "mimetype": "text/x-python",
   "name": "python",
   "nbconvert_exporter": "python",
   "pygments_lexer": "ipython3",
   "version": "3.6.4"
  }
 },
 "nbformat": 4,
 "nbformat_minor": 2
}
