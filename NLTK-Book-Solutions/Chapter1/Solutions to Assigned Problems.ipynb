{
 "cells": [
  {
   "cell_type": "markdown",
   "metadata": {},
   "source": [
    "### Problem  5\n",
    "\n",
    "Compare the lexical diversity scores for humor and romance fiction in Table 1-1. Which genre is more lexically diverse?"
   ]
  },
  {
   "cell_type": "code",
   "execution_count": 1,
   "metadata": {},
   "outputs": [
    {
     "name": "stdout",
     "output_type": "stream",
     "text": [
      "Humor: 4.324297388877816\n",
      "-----\n",
      "Romance: 8.284666351159489\n"
     ]
    }
   ],
   "source": [
    "# In humor there are 21695 tokens and 5017 types\n",
    "lexical_diversity_humor = 21695/5017\n",
    "print(\"Humor:\",lexical_diversity_humor)\n",
    "print('-----')\n",
    "\n",
    "# In romance there are 70022 tokens and 8452 types\n",
    "lexical_diversity_romance = 70022/8452\n",
    "print(\"Romance:\",lexical_diversity_romance)"
   ]
  },
  {
   "cell_type": "markdown",
   "metadata": {},
   "source": [
    "Romance has greater lexical diversity."
   ]
  },
  {
   "cell_type": "markdown",
   "metadata": {},
   "source": [
    "### Problem 7\n",
    "\n",
    "Find the collocations in text5."
   ]
  },
  {
   "cell_type": "code",
   "execution_count": 2,
   "metadata": {},
   "outputs": [
    {
     "name": "stdout",
     "output_type": "stream",
     "text": [
      "*** Introductory Examples for the NLTK Book ***\n",
      "Loading text1, ..., text9 and sent1, ..., sent9\n",
      "Type the name of the text or sentence to view it.\n",
      "Type: 'texts()' or 'sents()' to list the materials.\n",
      "text1: Moby Dick by Herman Melville 1851\n",
      "text2: Sense and Sensibility by Jane Austen 1811\n",
      "text3: The Book of Genesis\n",
      "text4: Inaugural Address Corpus\n",
      "text5: Chat Corpus\n",
      "text6: Monty Python and the Holy Grail\n",
      "text7: Wall Street Journal\n",
      "text8: Personals Corpus\n",
      "text9: The Man Who Was Thursday by G . K . Chesterton 1908\n"
     ]
    }
   ],
   "source": [
    "from nltk.book import *"
   ]
  },
  {
   "cell_type": "code",
   "execution_count": 3,
   "metadata": {},
   "outputs": [
    {
     "name": "stdout",
     "output_type": "stream",
     "text": [
      "wanna chat; PART JOIN; MODE #14-19teens; JOIN PART; PART PART;\n",
      "cute.-ass MP3; MP3 player; JOIN JOIN; times .. .; ACTION watches; guys\n",
      "wanna; song lasts; last night; ACTION sits; -...)...- S.M.R.; Lime\n",
      "Player; Player 12%; dont know; lez gurls; long time\n"
     ]
    }
   ],
   "source": [
    "text5.collocations()"
   ]
  },
  {
   "cell_type": "markdown",
   "metadata": {},
   "source": [
    "### Problem 13\n",
    "\n",
    "We have seen how to represent a sentence as a list of words, where each word is a sequence of characters. What does sent1[2][2] do? Why? Experiment with other index values."
   ]
  },
  {
   "cell_type": "code",
   "execution_count": 4,
   "metadata": {},
   "outputs": [
    {
     "data": {
      "text/plain": [
       "['Call', 'me', 'Ishmael', '.']"
      ]
     },
     "execution_count": 4,
     "metadata": {},
     "output_type": "execute_result"
    }
   ],
   "source": [
    "sent1"
   ]
  },
  {
   "cell_type": "code",
   "execution_count": 5,
   "metadata": {},
   "outputs": [
    {
     "data": {
      "text/plain": [
       "'h'"
      ]
     },
     "execution_count": 5,
     "metadata": {},
     "output_type": "execute_result"
    }
   ],
   "source": [
    "sent1[2][2]"
   ]
  },
  {
   "cell_type": "markdown",
   "metadata": {},
   "source": [
    "sent1[2][2] calls for the 3rd element of sent1 and then the 3rd element in the 3rd element(_Note: 3rd because indexing in Python begins at 0, so 0,1,2 would make 2 the 3rd element_). The 3rd element in sent1 is Ishmael and the 3rd element of Ishmael is h, therefore, sent1[2][2] returns 'h'. "
   ]
  },
  {
   "cell_type": "code",
   "execution_count": 6,
   "metadata": {},
   "outputs": [
    {
     "data": {
      "text/plain": [
       "['The',\n",
       " 'family',\n",
       " 'of',\n",
       " 'Dashwood',\n",
       " 'had',\n",
       " 'long',\n",
       " 'been',\n",
       " 'settled',\n",
       " 'in',\n",
       " 'Sussex',\n",
       " '.']"
      ]
     },
     "execution_count": 6,
     "metadata": {},
     "output_type": "execute_result"
    }
   ],
   "source": [
    "sent2"
   ]
  },
  {
   "cell_type": "code",
   "execution_count": 7,
   "metadata": {},
   "outputs": [
    {
     "data": {
      "text/plain": [
       "'Sussex'"
      ]
     },
     "execution_count": 7,
     "metadata": {},
     "output_type": "execute_result"
    }
   ],
   "source": [
    "sent2[-2][:6]"
   ]
  },
  {
   "cell_type": "code",
   "execution_count": 8,
   "metadata": {},
   "outputs": [
    {
     "data": {
      "text/plain": [
       "['In',\n",
       " 'the',\n",
       " 'beginning',\n",
       " 'God',\n",
       " 'created',\n",
       " 'the',\n",
       " 'heaven',\n",
       " 'and',\n",
       " 'the',\n",
       " 'earth',\n",
       " '.']"
      ]
     },
     "execution_count": 8,
     "metadata": {},
     "output_type": "execute_result"
    }
   ],
   "source": [
    "sent3"
   ]
  },
  {
   "cell_type": "code",
   "execution_count": 9,
   "metadata": {},
   "outputs": [
    {
     "data": {
      "text/plain": [
       "'God'"
      ]
     },
     "execution_count": 9,
     "metadata": {},
     "output_type": "execute_result"
    }
   ],
   "source": [
    "sent3[3][:]"
   ]
  },
  {
   "cell_type": "markdown",
   "metadata": {},
   "source": [
    "### Problem 17\n",
    "\n",
    "Use text9.index() to find the index of the word sunset. You’ll need to insert this word as an argument between the parentheses. By a process of trial and error, find the slice for the complete sentence that contains this word."
   ]
  },
  {
   "cell_type": "code",
   "execution_count": 10,
   "metadata": {},
   "outputs": [
    {
     "data": {
      "text/plain": [
       "629"
      ]
     },
     "execution_count": 10,
     "metadata": {},
     "output_type": "execute_result"
    }
   ],
   "source": [
    "text9.index('sunset')"
   ]
  },
  {
   "cell_type": "code",
   "execution_count": 11,
   "metadata": {},
   "outputs": [
    {
     "data": {
      "text/plain": [
       "'THE suburb of Saffron Park lay on the sunset side of London'"
      ]
     },
     "execution_count": 11,
     "metadata": {},
     "output_type": "execute_result"
    }
   ],
   "source": [
    "' '.join(text9[621:633])"
   ]
  },
  {
   "cell_type": "markdown",
   "metadata": {},
   "source": [
    "### Problem 29\n",
    "\n",
    "We have been using sets to store vocabularies. Try the following Python expression: set(sent3) < set(text1). Experiment with this using different arguments to set(). What does it do? Can you think of a practical application for this?"
   ]
  },
  {
   "cell_type": "code",
   "execution_count": 12,
   "metadata": {},
   "outputs": [
    {
     "data": {
      "text/plain": [
       "False"
      ]
     },
     "execution_count": 12,
     "metadata": {},
     "output_type": "execute_result"
    }
   ],
   "source": [
    "set(sent3)<set(sent1)"
   ]
  },
  {
   "cell_type": "markdown",
   "metadata": {},
   "source": [
    "This returned boolean False because len(set(sent3)) is greater than or equal to len(set(sent1))"
   ]
  },
  {
   "cell_type": "code",
   "execution_count": 13,
   "metadata": {},
   "outputs": [
    {
     "name": "stdout",
     "output_type": "stream",
     "text": [
      "9 4\n"
     ]
    }
   ],
   "source": [
    "print(len(set(sent3)),len(set(sent1)))"
   ]
  },
  {
   "cell_type": "markdown",
   "metadata": {},
   "source": [
    "### Applications of sets in text processing\n",
    "\n",
    "We can use sets to remove duplicates in a body of text. This is because the set data structure does not allow repeated occurrances of the same object. For example :"
   ]
  },
  {
   "cell_type": "code",
   "execution_count": 14,
   "metadata": {},
   "outputs": [
    {
     "name": "stdout",
     "output_type": "stream",
     "text": [
      "['knights', 'weight', 'right', 'right', 'Right', 'right', 'knight', 'thought', 'fight', 'Knight', 'knights', 'Knight', 'right', 'Knight', 'fight', 'Right', 'right', 'Right', 'Knight', 'right', 'Right', 'Right', 'Right', 'Knight', 'Knight', 'knights', 'fought', 'Knights', 'Knights', 'knights', 'knights', 'thought', 'Right', 'Right', 'Right', 'Knights', 'Knights', 'night', 'frighten', 'Right', 'nightfall', 'eight', 'brought', 'knights', 'knights', 'fight', 'Knight', 'Knight', 'Knight', 'right', 'right', 'right', 'right', 'right', 'Right', 'Knight', 'knight', 'eight', 'knights', 'naughty', 'alight', 'naughty', 'naughty', 'alight', 'tonight', 'knight', 'flight', 'flight', 'flights', 'Knights', 'Knights', 'Knights', 'Knights', 'Knights', 'Right', 'right', 'Right', 'Right', 'Alright', 'Right', 'right', 'Right', 'thought', 'Right', 'Right', 'right', 'eight', 'thought', 'right', 'right', 'Knight', 'knight', 'daughter', 'daughter', 'right', 'Knights', 'Knights', 'brought', 'Knights', 'Knights', 'Knights', 'Knights', 'slightly', 'mightiest', 'Knights', 'straight', 'Knights', 'might', 'fought', 'knights', 'Right', 'Right', 'right', 'Right', 'Right', 'right', 'naughty', 'sight', 'Right', 'knights', 'Right', 'Almighty', 'Knights', 'Right', 'knight', 'fight', 'right', 'Right', 'Riiight', 'Right', 'right']\n",
      "-----\n",
      "There are 131 words in this list\n"
     ]
    }
   ],
   "source": [
    "ght_words = []\n",
    "\n",
    "for word in text6:\n",
    "    if 'ght' in word:\n",
    "        ght_words.append(word)\n",
    "        \n",
    "print(ght_words)\n",
    "print('-----')\n",
    "print(\"There are %s words in this list\" %str(len(ght_words)))"
   ]
  },
  {
   "cell_type": "markdown",
   "metadata": {},
   "source": [
    "Now I am ** converting this list into a set **, to remove duplicates. "
   ]
  },
  {
   "cell_type": "code",
   "execution_count": 15,
   "metadata": {
    "scrolled": true
   },
   "outputs": [
    {
     "name": "stdout",
     "output_type": "stream",
     "text": [
      "{'Alright', 'daughter', 'Knight', 'knights', 'alight', 'knight', 'night', 'fought', 'might', 'slightly', 'fight', 'Almighty', 'Right', 'straight', 'brought', 'thought', 'right', 'Riiight', 'mightiest', 'Knights', 'naughty', 'weight', 'flights', 'sight', 'frighten', 'eight', 'tonight', 'flight', 'nightfall'}\n",
      "-----\n",
      "There are 29 words in this list\n"
     ]
    }
   ],
   "source": [
    "ght_words = set(ght_words)\n",
    "\n",
    "print(ght_words)\n",
    "print('-----')\n",
    "print(\"There are %s words in this list\" %str(len(ght_words)))"
   ]
  },
  {
   "cell_type": "markdown",
   "metadata": {},
   "source": [
    "102 words that were duplicates got removed due to this process."
   ]
  }
 ],
 "metadata": {
  "kernelspec": {
   "display_name": "Python 3",
   "language": "python",
   "name": "python3"
  },
  "language_info": {
   "codemirror_mode": {
    "name": "ipython",
    "version": 3
   },
   "file_extension": ".py",
   "mimetype": "text/x-python",
   "name": "python",
   "nbconvert_exporter": "python",
   "pygments_lexer": "ipython3",
   "version": "3.6.4"
  }
 },
 "nbformat": 4,
 "nbformat_minor": 2
}
